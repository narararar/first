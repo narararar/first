{
  "nbformat": 4,
  "nbformat_minor": 0,
  "metadata": {
    "colab": {
      "name": "Untitled1.ipynb",
      "provenance": [],
      "mount_file_id": "1W2CNyCL5hNywGphemp-LAKiTTSqTfrqU",
      "authorship_tag": "ABX9TyMdaKSWEODWr2gEd/aVUzJl",
      "include_colab_link": true
    },
    "kernelspec": {
      "name": "python3",
      "display_name": "Python 3"
    },
    "language_info": {
      "name": "python"
    },
    "accelerator": "GPU"
  },
  "cells": [
    {
      "cell_type": "markdown",
      "metadata": {
        "id": "view-in-github",
        "colab_type": "text"
      },
      "source": [
        "<a href=\"https://colab.research.google.com/github/narararar/first/blob/main/Untitled1.ipynb\" target=\"_parent\"><img src=\"https://colab.research.google.com/assets/colab-badge.svg\" alt=\"Open In Colab\"/></a>"
      ]
    },
    {
      "cell_type": "code",
      "execution_count": 6,
      "metadata": {
        "id": "7-_sc-t9DOvS"
      },
      "outputs": [],
      "source": [
        "from PIL import Image\n",
        "import numpy as np\n",
        "import os, glob, sys\n",
        "from sklearn import model_selection\n",
        "from tensorflow import keras"
      ]
    },
    {
      "cell_type": "code",
      "source": [
        "from google.colab import drive\n",
        "drive.mount('/content/drive')"
      ],
      "metadata": {
        "colab": {
          "base_uri": "https://localhost:8080/"
        },
        "id": "h7gB3y4kDVof",
        "outputId": "e626fd2b-5bbd-4779-9f14-8a89995e33a4"
      },
      "execution_count": 7,
      "outputs": [
        {
          "output_type": "stream",
          "name": "stdout",
          "text": [
            "Drive already mounted at /content/drive; to attempt to forcibly remount, call drive.mount(\"/content/drive\", force_remount=True).\n"
          ]
        }
      ]
    },
    {
      "cell_type": "code",
      "source": [
        "%%capture\n",
        "!unzip -o /content/drive/MyDrive/데이터.zip"
      ],
      "metadata": {
        "id": "Fah8YxbiDboL"
      },
      "execution_count": 8,
      "outputs": []
    },
    {
      "cell_type": "code",
      "source": [
        "img_dir = 'data2'\n",
        "categories = ['남자', '여자']\n",
        "\n",
        "image_w = 64\n",
        "image_h = 64\n",
        "\n",
        "x, y = [], []\n",
        "for idx, cate in enumerate(categories):\n",
        "    img_dir_detail = os.path.join(img_dir, cate)\n",
        "    files = glob.glob(os.path.join(img_dir_detail, '*.*'))\n",
        "\n",
        "    for f in files:\n",
        "        img = Image.open(f)\n",
        "        img = img.convert('RGB')\n",
        "        img = img.resize((image_w, image_h))\n",
        "        img = np.asarray(img)\n",
        "        x.append(img)\n",
        "        y.append(idx)\n",
        "\n",
        "x = np.array(x)\n",
        "y = np.array(y)\n",
        "\n",
        "xy = model_selection.train_test_split(x, y, test_size=0.1, stratify=y)\n",
        "np.save('data.npy', xy)"
      ],
      "metadata": {
        "id": "n-bNQY9ODlI7",
        "colab": {
          "base_uri": "https://localhost:8080/"
        },
        "outputId": "d641a8bd-e9ce-4180-adfc-78601c8b64f7"
      },
      "execution_count": 11,
      "outputs": [
        {
          "output_type": "stream",
          "name": "stderr",
          "text": [
            "/usr/local/lib/python3.7/dist-packages/numpy/core/_asarray.py:136: VisibleDeprecationWarning: Creating an ndarray from ragged nested sequences (which is a list-or-tuple of lists-or-tuples-or ndarrays with different lengths or shapes) is deprecated. If you meant to do this, you must specify 'dtype=object' when creating the ndarray\n",
            "  return array(a, dtype, copy=False, order=order, subok=True)\n"
          ]
        }
      ]
    },
    {
      "cell_type": "code",
      "source": [
        "from tensorflow.keras import Sequential\n",
        "from tensorflow.keras.layers import Conv2D, MaxPool2D, Dense, Flatten, Dropout, InputLayer\n",
        "from tensorflow.keras.callbacks import EarlyStopping, ModelCheckpoint\n",
        "import matplotlib.pyplot as plt\n",
        "\n",
        "x_train, x_test, y_train, y_test = np.load('data.npy', allow_pickle=True)\n",
        "\n",
        "x_train = x_train / 255\n",
        "x_test = x_test / 255\n",
        "\n",
        "print(x_train.shape, x_test.shape)\n",
        "print(y_train.shape, y_test.shape)"
      ],
      "metadata": {
        "colab": {
          "base_uri": "https://localhost:8080/"
        },
        "id": "lYUg-a54FmYB",
        "outputId": "e4ce9a9c-0a0e-4a7b-ee13-fd6ad29e3682"
      },
      "execution_count": 12,
      "outputs": [
        {
          "output_type": "stream",
          "name": "stdout",
          "text": [
            "(2147, 64, 64, 3) (239, 64, 64, 3)\n",
            "(2147,) (239,)\n"
          ]
        }
      ]
    },
    {
      "cell_type": "code",
      "source": [
        "conv_base = keras.applications.VGG16(include_top=False)\n",
        "conv_base.trainable = False\n",
        "\n",
        "model = Sequential()\n",
        "model.add(InputLayer(x_train.shape[1:]))\n",
        "model.add(conv_base)\n",
        "\n",
        "model.add(Flatten())\n",
        "model.add(Dense(512, activation='relu'))\n",
        "model.add(Dropout(0.5))\n",
        "model.add(Dense(128, activation='relu'))\n",
        "model.add(Dropout(0.3))\n",
        "model.add(Dense(1, activation='sigmoid'))\n",
        "\n",
        "model.compile(optimizer=keras.optimizers.RMSprop(0.0003),\n",
        "              loss='binary_crossentropy',\n",
        "              metrics=['acc'])\n",
        "\n",
        "model.summary()"
      ],
      "metadata": {
        "colab": {
          "base_uri": "https://localhost:8080/"
        },
        "id": "cBFZIGN9NkS8",
        "outputId": "cbe3d6c5-2c6b-4af7-a4d6-2053c8dccb6d"
      },
      "execution_count": 13,
      "outputs": [
        {
          "output_type": "stream",
          "name": "stdout",
          "text": [
            "Downloading data from https://storage.googleapis.com/tensorflow/keras-applications/vgg16/vgg16_weights_tf_dim_ordering_tf_kernels_notop.h5\n",
            "58892288/58889256 [==============================] - 1s 0us/step\n",
            "58900480/58889256 [==============================] - 1s 0us/step\n",
            "Model: \"sequential\"\n",
            "_________________________________________________________________\n",
            " Layer (type)                Output Shape              Param #   \n",
            "=================================================================\n",
            " vgg16 (Functional)          (None, None, None, 512)   14714688  \n",
            "                                                                 \n",
            " flatten (Flatten)           (None, 2048)              0         \n",
            "                                                                 \n",
            " dense (Dense)               (None, 512)               1049088   \n",
            "                                                                 \n",
            " dropout (Dropout)           (None, 512)               0         \n",
            "                                                                 \n",
            " dense_1 (Dense)             (None, 128)               65664     \n",
            "                                                                 \n",
            " dropout_1 (Dropout)         (None, 128)               0         \n",
            "                                                                 \n",
            " dense_2 (Dense)             (None, 1)                 129       \n",
            "                                                                 \n",
            "=================================================================\n",
            "Total params: 15,829,569\n",
            "Trainable params: 1,114,881\n",
            "Non-trainable params: 14,714,688\n",
            "_________________________________________________________________\n"
          ]
        }
      ]
    },
    {
      "cell_type": "code",
      "source": [
        "history = model.fit(x_train, y_train, epochs=15, batch_size=32, validation_data=(x_test, y_test))\n",
        "print('acc:', model.evaluate(x_test, y_test))"
      ],
      "metadata": {
        "colab": {
          "base_uri": "https://localhost:8080/"
        },
        "id": "RL-wwiJYOC6O",
        "outputId": "6dd4270e-ad68-4e2c-ab24-91846f8c53f4"
      },
      "execution_count": 14,
      "outputs": [
        {
          "output_type": "stream",
          "name": "stdout",
          "text": [
            "Epoch 1/15\n",
            "68/68 [==============================] - 12s 31ms/step - loss: 0.6208 - acc: 0.6726 - val_loss: 0.4669 - val_acc: 0.7866\n",
            "Epoch 2/15\n",
            "68/68 [==============================] - 1s 17ms/step - loss: 0.4741 - acc: 0.7611 - val_loss: 0.4518 - val_acc: 0.7824\n",
            "Epoch 3/15\n",
            "68/68 [==============================] - 1s 17ms/step - loss: 0.4403 - acc: 0.7937 - val_loss: 0.5755 - val_acc: 0.7113\n",
            "Epoch 4/15\n",
            "68/68 [==============================] - 1s 17ms/step - loss: 0.4152 - acc: 0.8081 - val_loss: 0.4605 - val_acc: 0.7866\n",
            "Epoch 5/15\n",
            "68/68 [==============================] - 1s 17ms/step - loss: 0.3736 - acc: 0.8361 - val_loss: 0.4512 - val_acc: 0.8033\n",
            "Epoch 6/15\n",
            "68/68 [==============================] - 1s 17ms/step - loss: 0.3534 - acc: 0.8444 - val_loss: 0.4274 - val_acc: 0.8410\n",
            "Epoch 7/15\n",
            "68/68 [==============================] - 1s 17ms/step - loss: 0.3269 - acc: 0.8542 - val_loss: 0.4366 - val_acc: 0.8075\n",
            "Epoch 8/15\n",
            "68/68 [==============================] - 1s 17ms/step - loss: 0.3134 - acc: 0.8668 - val_loss: 0.3831 - val_acc: 0.8368\n",
            "Epoch 9/15\n",
            "68/68 [==============================] - 1s 17ms/step - loss: 0.2773 - acc: 0.8826 - val_loss: 0.3770 - val_acc: 0.8494\n",
            "Epoch 10/15\n",
            "68/68 [==============================] - 1s 17ms/step - loss: 0.2616 - acc: 0.9041 - val_loss: 0.4032 - val_acc: 0.8577\n",
            "Epoch 11/15\n",
            "68/68 [==============================] - 1s 17ms/step - loss: 0.2483 - acc: 0.8943 - val_loss: 0.3958 - val_acc: 0.8452\n",
            "Epoch 12/15\n",
            "68/68 [==============================] - 1s 17ms/step - loss: 0.2220 - acc: 0.9115 - val_loss: 0.3998 - val_acc: 0.8536\n",
            "Epoch 13/15\n",
            "68/68 [==============================] - 1s 17ms/step - loss: 0.2089 - acc: 0.9115 - val_loss: 0.4336 - val_acc: 0.8452\n",
            "Epoch 14/15\n",
            "68/68 [==============================] - 1s 17ms/step - loss: 0.1815 - acc: 0.9301 - val_loss: 0.4306 - val_acc: 0.8661\n",
            "Epoch 15/15\n",
            "68/68 [==============================] - 1s 17ms/step - loss: 0.1612 - acc: 0.9381 - val_loss: 0.5003 - val_acc: 0.8326\n",
            "8/8 [==============================] - 0s 13ms/step - loss: 0.5003 - acc: 0.8326\n",
            "acc: [0.5003263354301453, 0.8326359987258911]\n"
          ]
        }
      ]
    },
    {
      "cell_type": "code",
      "source": [
        "plt.plot(history.history['loss'], label='loss')\n",
        "plt.plot(history.history['val_loss'], label='val_loss')\n",
        "plt.plot(history.history['acc'], label='acc')\n",
        "plt.plot(history.history['val_acc'], label='val_acc')\n",
        "plt.title('model loss')\n",
        "plt.ylabel('loss')\n",
        "plt.xlabel('epoch')\n",
        "plt.legend()\n",
        "plt.show()"
      ],
      "metadata": {
        "colab": {
          "base_uri": "https://localhost:8080/",
          "height": 295
        },
        "id": "ldoR_9iLQZ8X",
        "outputId": "349a4380-6d90-42e8-84b8-c332c0649352"
      },
      "execution_count": 15,
      "outputs": [
        {
          "output_type": "display_data",
          "data": {
            "image/png": "[encoded data removed]",
            "text/plain": [
              "<Figure size 432x288 with 1 Axes>"
            ]
          },
          "metadata": {
            "needs_background": "light"
          }
        }
      ]
    },
    {
      "cell_type": "code",
      "source": [
        "img = Image.open('파일 경로')\n",
        "img = img.convert('RGB')\n",
        "img = img.resize((64, 64))\n",
        "img = np.asarray(img)\n",
        "model.predict(np.array([img]))"
      ],
      "metadata": {
        "colab": {
          "base_uri": "https://localhost:8080/",
          "height": 381
        },
        "id": "aysM0-DqT8Gz",
        "outputId": "c152b1d4-2cb6-439f-ac7d-3be284b22951"
      },
      "execution_count": 16,
      "outputs": [
        {
          "output_type": "error",
          "ename": "FileNotFoundError",
          "evalue": "ignored",
          "traceback": [
            "\u001b[0;31m---------------------------------------------------------------------------\u001b[0m",
            "\u001b[0;31mFileNotFoundError\u001b[0m                         Traceback (most recent call last)",
            "\u001b[0;32m<ipython-input-16-f52d6566ef65>\u001b[0m in \u001b[0;36m<module>\u001b[0;34m()\u001b[0m\n\u001b[0;32m----> 1\u001b[0;31m \u001b[0mimg\u001b[0m \u001b[0;34m=\u001b[0m \u001b[0mImage\u001b[0m\u001b[0;34m.\u001b[0m\u001b[0mopen\u001b[0m\u001b[0;34m(\u001b[0m\u001b[0;34m'파일 경로'\u001b[0m\u001b[0;34m)\u001b[0m\u001b[0;34m\u001b[0m\u001b[0;34m\u001b[0m\u001b[0m\n\u001b[0m\u001b[1;32m      2\u001b[0m \u001b[0mimg\u001b[0m \u001b[0;34m=\u001b[0m \u001b[0mimg\u001b[0m\u001b[0;34m.\u001b[0m\u001b[0mconvert\u001b[0m\u001b[0;34m(\u001b[0m\u001b[0;34m'RGB'\u001b[0m\u001b[0;34m)\u001b[0m\u001b[0;34m\u001b[0m\u001b[0;34m\u001b[0m\u001b[0m\n\u001b[1;32m      3\u001b[0m \u001b[0mimg\u001b[0m \u001b[0;34m=\u001b[0m \u001b[0mimg\u001b[0m\u001b[0;34m.\u001b[0m\u001b[0mresize\u001b[0m\u001b[0;34m(\u001b[0m\u001b[0;34m(\u001b[0m\u001b[0;36m64\u001b[0m\u001b[0;34m,\u001b[0m \u001b[0;36m64\u001b[0m\u001b[0;34m)\u001b[0m\u001b[0;34m)\u001b[0m\u001b[0;34m\u001b[0m\u001b[0;34m\u001b[0m\u001b[0m\n\u001b[1;32m      4\u001b[0m \u001b[0mimg\u001b[0m \u001b[0;34m=\u001b[0m \u001b[0mnp\u001b[0m\u001b[0;34m.\u001b[0m\u001b[0masarray\u001b[0m\u001b[0;34m(\u001b[0m\u001b[0mimg\u001b[0m\u001b[0;34m)\u001b[0m\u001b[0;34m\u001b[0m\u001b[0;34m\u001b[0m\u001b[0m\n\u001b[1;32m      5\u001b[0m \u001b[0mmodel\u001b[0m\u001b[0;34m.\u001b[0m\u001b[0mpredict\u001b[0m\u001b[0;34m(\u001b[0m\u001b[0mnp\u001b[0m\u001b[0;34m.\u001b[0m\u001b[0marray\u001b[0m\u001b[0;34m(\u001b[0m\u001b[0;34m[\u001b[0m\u001b[0mimg\u001b[0m\u001b[0;34m]\u001b[0m\u001b[0;34m)\u001b[0m\u001b[0;34m)\u001b[0m\u001b[0;34m\u001b[0m\u001b[0;34m\u001b[0m\u001b[0m\n",
            "\u001b[0;32m/usr/local/lib/python3.7/dist-packages/PIL/Image.py\u001b[0m in \u001b[0;36mopen\u001b[0;34m(fp, mode)\u001b[0m\n\u001b[1;32m   2841\u001b[0m \u001b[0;34m\u001b[0m\u001b[0m\n\u001b[1;32m   2842\u001b[0m     \u001b[0;32mif\u001b[0m \u001b[0mfilename\u001b[0m\u001b[0;34m:\u001b[0m\u001b[0;34m\u001b[0m\u001b[0;34m\u001b[0m\u001b[0m\n\u001b[0;32m-> 2843\u001b[0;31m         \u001b[0mfp\u001b[0m \u001b[0;34m=\u001b[0m \u001b[0mbuiltins\u001b[0m\u001b[0;34m.\u001b[0m\u001b[0mopen\u001b[0m\u001b[0;34m(\u001b[0m\u001b[0mfilename\u001b[0m\u001b[0;34m,\u001b[0m \u001b[0;34m\"rb\"\u001b[0m\u001b[0;34m)\u001b[0m\u001b[0;34m\u001b[0m\u001b[0;34m\u001b[0m\u001b[0m\n\u001b[0m\u001b[1;32m   2844\u001b[0m         \u001b[0mexclusive_fp\u001b[0m \u001b[0;34m=\u001b[0m \u001b[0;32mTrue\u001b[0m\u001b[0;34m\u001b[0m\u001b[0;34m\u001b[0m\u001b[0m\n\u001b[1;32m   2845\u001b[0m \u001b[0;34m\u001b[0m\u001b[0m\n",
            "\u001b[0;31mFileNotFoundError\u001b[0m: [Errno 2] No such file or directory: '파일 경로'"
          ]
        }
      ]
    },
    {
      "cell_type": "code",
      "source": [
        ""
      ],
      "metadata": {
        "id": "IUppyaXkU-zW"
      },
      "execution_count": null,
      "outputs": []
    }
  ]
}